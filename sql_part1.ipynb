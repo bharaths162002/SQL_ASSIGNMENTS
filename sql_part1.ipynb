{
 "cells": [
  {
   "cell_type": "markdown",
   "metadata": {},
   "source": [
    "    create table employees(\n",
    "    employee_id int,\n",
    "    name varchar(20),\n",
    "    age int,\n",
    "    department varchar(10),\n",
    "    salary int,\n",
    "    email varchar(30),\n",
    "    years_at_company int\n",
    "    );\n",
    "\n",
    "    insert into employees values(101,'Alice',25,'IT',50000,'alice@gmail.com',2)\n",
    "    insert into employees values(102,'Bob',35,'HR',40000,'bob@yahoo.com',6)\n",
    "    insert into employees values(103,'Charlie',30,'Finance',55000,'',4)\n",
    "    insert into employees values(104,'Diana',40,'IT',70000,'diana@gmail.com',10)\n",
    "    insert into employees values(105,'Evan',29,'Sales',45000,'evan@outlook.com',3)\n",
    "    insert into employees values(106,'Fiona',22,'IT',65000,'fiona@gmail.com',1)\n",
    "    insert into employees values(107,'George',45,'Marketing',48000,'george@gmail.com',12)\n",
    "    insert into employees values(108,'Hannah',28,'HR',47000,'hannah@yahoo.com',5) "
   ]
  },
  {
   "cell_type": "markdown",
   "metadata": {},
   "source": [
    "--1. Write a query to retrieve all data from a table named employees. \n",
    "\n",
    "select * from employees;"
   ]
  },
  {
   "cell_type": "markdown",
   "metadata": {},
   "source": [
    "employee_id name                 age         department salary      email                          years_at_company\n",
    "----------- -------------------- ----------- ---------- ----------- ------------------------------ ----------------\n",
    "        101 Alice                         25 IT               50000 alice@gmail.com                               2\n",
    "        102 Bob                           35 HR               40000 bob@yahoo.com                                 6\n",
    "        103 Charlie                       30 Finance          55000                                               4\n",
    "        104 Diana                         40 IT               70000 diana@gmail.com                              10\n",
    "        105 Evan                          29 Sales            45000 evan@outlook.com                              3\n",
    "        106 Fiona                         22 IT               65000 fiona@gmail.com                               1\n",
    "        107 George                        45 Marketing        48000 george@gmail.com                             12\n",
    "        108 Hannah                        28 HR               47000 hannah@yahoo.com                              5"
   ]
  },
  {
   "cell_type": "markdown",
   "metadata": {},
   "source": [
    "--2. Fetch the name, age, and department columns from the employees table. \n",
    "\n",
    "select name,age,department from employees"
   ]
  },
  {
   "cell_type": "markdown",
   "metadata": {},
   "source": [
    "name                 age         department\n",
    "-------------------- ----------- ----------\n",
    "Alice                         25 IT        \n",
    "Bob                           35 HR        \n",
    "Charlie                       30 Finance   \n",
    "Diana                         40 IT        \n",
    "Evan                          29 Sales     \n",
    "Fiona                         22 IT        \n",
    "George                        45 Marketing \n",
    "Hannah                        28 HR        "
   ]
  },
  {
   "cell_type": "markdown",
   "metadata": {},
   "source": [
    "--3. Retrieve all employees whose age is greater than 30. \n",
    "\n",
    "select name,age from employees where age>30"
   ]
  },
  {
   "cell_type": "markdown",
   "metadata": {},
   "source": [
    "name                 age        \n",
    "-------------------- -----------\n",
    "Bob                           35\n",
    "Diana                         40\n",
    "George                        45"
   ]
  },
  {
   "cell_type": "markdown",
   "metadata": {},
   "source": [
    "--4. Find employees who work in the IT department and have a salary greater than 50000. \n",
    "\n",
    "select name,salary from employees where department='IT' and salary>50000"
   ]
  },
  {
   "cell_type": "markdown",
   "metadata": {},
   "source": [
    "name                 salary     \n",
    "-------------------- -----------\n",
    "Diana                      70000\n",
    "Fiona                      65000"
   ]
  },
  {
   "cell_type": "markdown",
   "metadata": {},
   "source": [
    "--5. Get all employees who work in the HR department or are less than 25 years old. \n",
    "\n",
    "select name from employees where department='HR' and age<25"
   ]
  },
  {
   "cell_type": "markdown",
   "metadata": {},
   "source": [
    "name                \n",
    "--------------------"
   ]
  },
  {
   "cell_type": "markdown",
   "metadata": {},
   "source": [
    "--6. Retrieve all employees who do not work in the Finance department. \n",
    "\n",
    "select name,department from employees where department!='Finance'"
   ]
  },
  {
   "cell_type": "markdown",
   "metadata": {},
   "source": [
    "name                 department\n",
    "-------------------- ----------\n",
    "Alice                IT        \n",
    "Bob                  HR        \n",
    "Diana                IT        \n",
    "Evan                 Sales     \n",
    "Fiona                IT        \n",
    "George               Marketing \n",
    "Hannah               HR     "
   ]
  },
  {
   "cell_type": "markdown",
   "metadata": {},
   "source": [
    "-7. Find employees whose names start with the letter 'A'. \n",
    "\n",
    "select name from employees where name like 'A%'"
   ]
  },
  {
   "cell_type": "markdown",
   "metadata": {},
   "source": [
    "name                \n",
    "--------------------\n",
    "Alice  "
   ]
  },
  {
   "cell_type": "markdown",
   "metadata": {},
   "source": [
    "--8. Retrieve employees whose email addresses contain the domain gmail.com.\n",
    "\n",
    "select email from employees where email like '%gmail.com%'"
   ]
  },
  {
   "cell_type": "markdown",
   "metadata": {},
   "source": [
    "email                         \n",
    "------------------------------\n",
    "alice@gmail.com               \n",
    "diana@gmail.com               \n",
    "fiona@gmail.com               \n",
    "george@gmail.com "
   ]
  },
  {
   "cell_type": "markdown",
   "metadata": {},
   "source": [
    "--9. Fetch the names and salaries of employees sorted by salary in descending order. \n",
    "  \n",
    "  select * from employees order by name,salary desc;\n"
   ]
  },
  {
   "cell_type": "markdown",
   "metadata": {},
   "source": [
    "employee_id name                 age         department salary      email                          years_at_company\n",
    "----------- -------------------- ----------- ---------- ----------- ------------------------------ ----------------\n",
    "        101 Alice                         25 IT               50000 alice@gmail.com                               2\n",
    "        102 Bob                           35 HR               40000 bob@yahoo.com                                 6\n",
    "        103 Charlie                       30 Finance          55000                                               4\n",
    "        104 Diana                         40 IT               70000 diana@gmail.com                              10\n",
    "        105 Evan                          29 Sales            45000 evan@outlook.com                              3\n",
    "        106 Fiona                         22 IT               65000 fiona@gmail.com                               1\n",
    "        107 George                        45 Marketing        48000 george@gmail.com                             12\n",
    "        108 Hannah                        28 HR               47000 hannah@yahoo.com                              5\n"
   ]
  },
  {
   "cell_type": "markdown",
   "metadata": {},
   "source": [
    "--10. Retrieve the top 5 highest-paid employees. \n",
    "\n",
    "select name,department,salary from employees order by salary desc limit 5 ;"
   ]
  },
  {
   "cell_type": "markdown",
   "metadata": {},
   "source": [
    "name                 department salary     \n",
    "-------------------- ---------- -----------\n",
    "Diana                IT               70000\n",
    "Fiona                IT               65000\n",
    "Charlie              Finance          55000\n",
    "Alice                IT               50000\n",
    "George               Marketing        48000"
   ]
  },
  {
   "cell_type": "markdown",
   "metadata": {},
   "source": [
    "--11. Count the total number of employees in the employees table. \n",
    "\n",
    "select Count(*) from employees;"
   ]
  },
  {
   "cell_type": "markdown",
   "metadata": {},
   "source": [
    "----------\n",
    "          8"
   ]
  },
  {
   "cell_type": "markdown",
   "metadata": {},
   "source": [
    "--12. Write a query to find the minimum and maximum salaries in the employees table.\n",
    "\n",
    "select min(salary) from employees\n",
    "\n",
    "select max(salary) from employees"
   ]
  },
  {
   "cell_type": "markdown",
   "metadata": {},
   "source": [
    "-----------\n",
    "      40000\n",
    "           \n",
    "-----------\n",
    "      70000"
   ]
  },
  {
   "cell_type": "markdown",
   "metadata": {},
   "source": [
    "--13. Calculate the average salary of employees in each department. \n",
    "\n",
    "select department , avg(salary) as average_salary from employees group by department;"
   ]
  },
  {
   "cell_type": "markdown",
   "metadata": {},
   "source": [
    "department average_salary\n",
    "---------- --------------\n",
    "Finance             55000\n",
    "HR                  43500\n",
    "IT                  61666\n",
    "Marketing           48000\n",
    "Sales               45000"
   ]
  },
  {
   "cell_type": "markdown",
   "metadata": {},
   "source": [
    "-14. Find all employees who work in the IT department and have a salary greater than 60000 or have been with the company for more than 5 years\n",
    "\n",
    "select * from employees  where department='IT' and (salary > 60000 or years_at_company>5 );\n"
   ]
  },
  {
   "cell_type": "markdown",
   "metadata": {},
   "source": [
    "employee_id name                 age         department salary      email                          years_at_company\n",
    "----------- -------------------- ----------- ---------- ----------- ------------------------------ ----------------\n",
    "        104 Diana                         40 IT               70000 diana@gmail.com                              10\n",
    "        106 Fiona                         22 IT               65000 fiona@gmail.com                               1"
   ]
  },
  {
   "cell_type": "markdown",
   "metadata": {},
   "source": [
    "--15. Increase the salary of all employees in the Sales department by 10%.\n",
    "\n",
    "update employees set salary=salary*1.10 where department='Sales';"
   ]
  },
  {
   "cell_type": "markdown",
   "metadata": {},
   "source": [
    "--16. Update the department of an employee with employee_id = 101 to Marketing.\n",
    "\n",
    "Update employees set department='Marketing' where employee_id=101"
   ]
  },
  {
   "cell_type": "markdown",
   "metadata": {},
   "source": [
    "employee_id name                 age         department salary      email                          years_at_company\n",
    "----------- -------------------- ----------- ---------- ----------- ------------------------------ ----------------\n",
    "        101 Alice                         25 Marketing        50000 alice@gmail.com                               2\n",
    "        102 Bob                           35 HR               40000 bob@yahoo.com                                 6\n",
    "        103 Charlie                       30 Finance          55000                                               4\n",
    "        104 Diana                         40 IT               70000 diana@gmail.com                              10\n",
    "        105 Evan                          29 Sales            49500 evan@outlook.com                              3\n",
    "        106 Fiona                         22 IT               65000 fiona@gmail.com                               1\n",
    "        107 George                        45 Marketing        48000 george@gmail.com                             12\n",
    "        108 Hannah                        28 HR               47000 hannah@yahoo.com                              5"
   ]
  }
 ],
 "metadata": {
  "language_info": {
   "name": "python"
  }
 },
 "nbformat": 4,
 "nbformat_minor": 2
}

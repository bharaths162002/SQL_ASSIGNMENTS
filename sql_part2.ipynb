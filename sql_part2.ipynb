{
 "cells": [
  {
   "cell_type": "markdown",
   "metadata": {},
   "source": [
    "create table user_logs(\n",
    "user_id int,\n",
    "last_login date,\n",
    "activity_status varchar(15)\n",
    ");\n",
    "\n",
    "insert into user_logs values (301,'2024-11-01','Active');\n",
    "insert into user_logs values (302,'2024-09-25','Inactive');\n",
    "insert into user_logs values (303,'2024-11-05','Active');\n",
    "insert into user_logs values (304,'2024-10-01','Inactive');\n",
    "insert into user_logs values (305,'2024-11-03','Active');\n",
    "\n",
    "select * from user_logs;"
   ]
  },
  {
   "cell_type": "markdown",
   "metadata": {},
   "source": [
    "+---------+------------+-----------------+\n",
    "| user_id | last_login | activity_status |\n",
    "+---------+------------+-----------------+\n",
    "|     301 | 2024-11-01 | Active          |\n",
    "|     302 | 2024-09-25 | Inactive        |\n",
    "|     303 | 2024-11-05 | Active          |\n",
    "|     304 | 2024-10-01 | Inactive        |\n",
    "|     305 | 2024-11-03 | Active          |\n",
    "+---------+------------+-----------------+"
   ]
  },
  {
   "cell_type": "markdown",
   "metadata": {},
   "source": [
    "-- 17. Find all users who haven’t logged in for more than 30 days from a user_logs table. \n",
    "\n",
    "select user_id,last_login from user_logs where last_login < date_sub('2024-11-05', interval 30 day);"
   ]
  },
  {
   "cell_type": "markdown",
   "metadata": {},
   "source": [
    "+---------+------------+\n",
    "| user_id | last_login |\n",
    "+---------+------------+\n",
    "|     302 | 2024-09-25 |\n",
    "|     304 | 2024-10-01 |\n",
    "+---------+------------+"
   ]
  },
  {
   "cell_type": "markdown",
   "metadata": {},
   "source": [
    "create table sales(\n",
    "product_id int,\n",
    "product_name varchar(20),\n",
    "total_sales int\n",
    ");\n",
    "\n",
    "insert into sales values(201,'Laptop',150);\n",
    "insert into sales values(202,'Smartphone',300);\n",
    "insert into sales values(203,'Headphones',200);\n",
    "insert into sales values(204,'Monitor',100);\n",
    "insert into sales values(205,'Keyboard',50);\n",
    "\n",
    "select * from sales;\n"
   ]
  },
  {
   "cell_type": "markdown",
   "metadata": {},
   "source": [
    "+------------+--------------+-------------+\n",
    "| product_id | product_name | total_sales |\n",
    "+------------+--------------+-------------+\n",
    "|        201 | Laptop       |         150 |\n",
    "|        202 | Smartphone   |         300 |\n",
    "|        203 | Headphones   |         200 |\n",
    "|        204 | Monitor      |         100 |\n",
    "|        205 | Keyboard     |          50 |\n",
    "+------------+--------------+-------------+"
   ]
  },
  {
   "cell_type": "markdown",
   "metadata": {},
   "source": [
    "-- 18. Write a query to fetch the top 3 products with the highest sales from a sales table. \n",
    "\n",
    "select product_id,product_name, total_sales from sales order by total_sales desc limit 3 ;"
   ]
  },
  {
   "cell_type": "markdown",
   "metadata": {},
   "source": [
    "+------------+--------------+-------------+\n",
    "| product_id | product_name | total_sales |\n",
    "+------------+--------------+-------------+\n",
    "|        202 | Smartphone   |         300 |\n",
    "|        203 | Headphones   |         200 |\n",
    "|        201 | Laptop       |         150 |\n",
    "+------------+--------------+-------------+"
   ]
  },
  {
   "cell_type": "markdown",
   "metadata": {},
   "source": [
    "create table customers(\n",
    "customer_id int,\n",
    "name varchar(20),\n",
    "region varchar(15)\n",
    "\n",
    ");\n",
    "\n",
    "insert into customers values(401,'John Doe','North');\n",
    "insert into customers values(402,'Jane Smith','South');\n",
    "insert into customers values(403,'Emily Johnson','East');\n",
    "insert into customers values(404,'Michael Brown','West');\n",
    "insert into customers values(405,'Sarah Davis','North');\n",
    "\n",
    "select * from customers;"
   ]
  },
  {
   "cell_type": "markdown",
   "metadata": {},
   "source": [
    "+-------------+---------------+--------+\n",
    "| customer_id | name          | region |\n",
    "+-------------+---------------+--------+\n",
    "|         401 | John Doe      | North  |\n",
    "|         402 | Jane Smith    | South  |\n",
    "|         403 | Emily Johnson | East   |\n",
    "|         404 | Michael Brown | West   |\n",
    "|         405 | Sarah Davis   | North  |\n",
    "+-------------+---------------+--------+"
   ]
  },
  {
   "cell_type": "markdown",
   "metadata": {},
   "source": [
    "-- 19. Count the number of customers from each region in the customers table. \n",
    "\n",
    "select region ,Count(*) from customers group by region;"
   ]
  },
  {
   "cell_type": "markdown",
   "metadata": {},
   "source": [
    "+--------+----------+\n",
    "| region | Count(*) |\n",
    "+--------+----------+\n",
    "| North  |        2 |\n",
    "| South  |        1 |\n",
    "| East   |        1 |\n",
    "| West   |        1 |\n",
    "+--------+----------+"
   ]
  },
  {
   "cell_type": "markdown",
   "metadata": {},
   "source": [
    "create table orders(\n",
    "order_id int,\n",
    "customer_id int,\n",
    "product_id int,\n",
    "order_date date,\n",
    "shipped_date date,\n",
    "delivery_date date\n",
    ");\n",
    "\n",
    "insert into orders values(501,401,202,'2024-10-01','2024-10-03','2024-10-05');\n",
    "insert into orders values(502,402,203,'2024-11-01','2024-11-02','2024-11-04');\n",
    "insert into orders values(503,403,201,'2024-10-20','2024-10-22','2024-10-21');\n",
    "insert into orders values(504,401,204,'2024-10-25','2024-10-28','2024-10-27');\n",
    "insert into orders values(505,405,203,'2024-11-03','2024-11-05','2024-11-06');\n",
    "\n",
    "select * from orders;"
   ]
  },
  {
   "cell_type": "markdown",
   "metadata": {},
   "source": [
    "+----------+-------------+------------+------------+--------------+---------------+\n",
    "| order_id | customer_id | product_id | order_date | shipped_date | delivery_date |\n",
    "+----------+-------------+------------+------------+--------------+---------------+\n",
    "|      501 |         401 |        202 | 2024-10-01 | 2024-10-03   | 2024-10-05    |\n",
    "|      502 |         402 |        203 | 2024-11-01 | 2024-11-02   | 2024-11-04    |\n",
    "|      503 |         403 |        201 | 2024-10-20 | 2024-10-22   | 2024-10-21    |\n",
    "|      504 |         401 |        204 | 2024-10-25 | 2024-10-28   | 2024-10-27    |\n",
    "|      505 |         405 |        203 | 2024-11-03 | 2024-11-05   | 2024-11-06    |\n",
    "+----------+-------------+------------+------------+--------------+---------------+"
   ]
  },
  {
   "cell_type": "markdown",
   "metadata": {},
   "source": [
    "-- 20. Retrieve all orders from the orders table where the shipped_date is later than the delivery_date. \n",
    "\n",
    "select * from orders where shipped_date > delivery_date;"
   ]
  },
  {
   "cell_type": "markdown",
   "metadata": {},
   "source": [
    "+----------+-------------+------------+------------+--------------+---------------+\n",
    "| order_id | customer_id | product_id | order_date | shipped_date | delivery_date |\n",
    "+----------+-------------+------------+------------+--------------+---------------+\n",
    "|      503 |         403 |        201 | 2024-10-20 | 2024-10-22   | 2024-10-21    |\n",
    "|      504 |         401 |        204 | 2024-10-25 | 2024-10-28   | 2024-10-27    |\n",
    "+----------+-------------+------------+------------+--------------+---------------+"
   ]
  },
  {
   "cell_type": "markdown",
   "metadata": {},
   "source": [
    "create table employees(\n",
    "employee_id int,\n",
    "name varchar(20),\n",
    "age int,\n",
    "department varchar(10),\n",
    "salary int,\n",
    "email varchar(30),\n",
    "years_at_company int\n",
    ");\n",
    "\n",
    "insert into employees values(101,'Alice',25,'IT',50000,'alice@gmail.com',2);\n",
    "insert into employees values(102,'Bob',35,'HR',40000,'bob@yahoo.com',6);\n",
    "insert into employees values(103,'Charlie',30,'Finance',55000,'',4);\n",
    "insert into employees values(104,'Diana',40,'IT',70000,'diana@gmail.com',10);\n",
    "insert into employees values(105,'Evan',29,'Sales',45000,'evan@outlook.com',3);\n",
    "insert into employees values(106,'Fiona',22,'IT',65000,'fiona@gmail.com',1);\n",
    "insert into employees values(107,'George',45,'Marketing',48000,'george@gmail.com',12);\n",
    "insert into employees values(108,'Hannah',28,'HR',47000,'hannah@yahoo.com',5);\n",
    "\n",
    "select * from employees;"
   ]
  },
  {
   "cell_type": "markdown",
   "metadata": {},
   "source": [
    "+-------------+---------+------+------------+--------+------------------+------------------+\n",
    "| employee_id | name    | age  | department | salary | email            | years_at_company |\n",
    "+-------------+---------+------+------------+--------+------------------+------------------+\n",
    "|         101 | Alice   |   25 | IT         |  50000 | alice@gmail.com  |                2 |\n",
    "|         102 | Bob     |   35 | HR         |  40000 | bob@yahoo.com    |                6 |\n",
    "|         103 | Charlie |   30 | Finance    |  55000 |                  |                4 |\n",
    "|         104 | Diana   |   40 | IT         |  70000 | diana@gmail.com  |               10 |\n",
    "|         105 | Evan    |   29 | Sales      |  45000 | evan@outlook.com |                3 |\n",
    "|         106 | Fiona   |   22 | IT         |  65000 | fiona@gmail.com  |                1 |\n",
    "|         107 | George  |   45 | Marketing  |  48000 | george@gmail.com |               12 |\n",
    "|         108 | Hannah  |   28 | HR         |  47000 | hannah@yahoo.com |                5 |\n",
    "+-------------+---------+------+------------+--------+------------------+------------------+"
   ]
  },
  {
   "cell_type": "markdown",
   "metadata": {},
   "source": [
    "21. Sort by Multiple Columns: \n",
    "Retrieve employees sorted by department in ascending order and salary in descending order.\n",
    "\n",
    "select * from employees order by department;\n",
    "\n",
    "select * from employees order by salary desc;\n"
   ]
  },
  {
   "cell_type": "markdown",
   "metadata": {},
   "source": [
    "+-------------+---------+------+------------+--------+------------------+------------------+\n",
    "| employee_id | name    | age  | department | salary | email            | years_at_company |\n",
    "+-------------+---------+------+------------+--------+------------------+------------------+\n",
    "|         103 | Charlie |   30 | Finance    |  55000 |                  |                4 |\n",
    "|         102 | Bob     |   35 | HR         |  40000 | bob@yahoo.com    |                6 |\n",
    "|         108 | Hannah  |   28 | HR         |  47000 | hannah@yahoo.com |                5 |\n",
    "|         101 | Alice   |   25 | IT         |  50000 | alice@gmail.com  |                2 |\n",
    "|         104 | Diana   |   40 | IT         |  70000 | diana@gmail.com  |               10 |\n",
    "|         106 | Fiona   |   22 | IT         |  65000 | fiona@gmail.com  |                1 |\n",
    "|         107 | George  |   45 | Marketing  |  48000 | george@gmail.com |               12 |\n",
    "|         105 | Evan    |   29 | Sales      |  45000 | evan@outlook.com |                3 |\n",
    "+-------------+---------+------+------------+--------+------------------+------------------+"
   ]
  },
  {
   "cell_type": "markdown",
   "metadata": {},
   "source": [
    "+-------------+---------+------+------------+--------+------------------+------------------+\n",
    "| employee_id | name    | age  | department | salary | email            | years_at_company |\n",
    "+-------------+---------+------+------------+--------+------------------+------------------+\n",
    "|         104 | Diana   |   40 | IT         |  70000 | diana@gmail.com  |               10 |\n",
    "|         106 | Fiona   |   22 | IT         |  65000 | fiona@gmail.com  |                1 |\n",
    "|         103 | Charlie |   30 | Finance    |  55000 |                  |                4 |\n",
    "|         101 | Alice   |   25 | IT         |  50000 | alice@gmail.com  |                2 |\n",
    "|         107 | George  |   45 | Marketing  |  48000 | george@gmail.com |               12 |\n",
    "|         108 | Hannah  |   28 | HR         |  47000 | hannah@yahoo.com |                5 |\n",
    "|         105 | Evan    |   29 | Sales      |  45000 | evan@outlook.com |                3 |\n",
    "|         102 | Bob     |   35 | HR         |  40000 | bob@yahoo.com    |                6 |\n",
    "+-------------+---------+------+------------+--------+------------------+------------------+"
   ]
  },
  {
   "cell_type": "markdown",
   "metadata": {},
   "source": [
    "-- 22. Fetch the highest-paid employee from each department.\n",
    "\n",
    "select department,max(salary) as maximum_salary from employees group by department;"
   ]
  },
  {
   "cell_type": "markdown",
   "metadata": {},
   "source": [
    "+------------+----------------+\n",
    "| department | maximum_salary |\n",
    "+------------+----------------+\n",
    "| IT         |          70000 |\n",
    "| HR         |          47000 |\n",
    "| Finance    |          55000 |\n",
    "| Sales      |          45000 |\n",
    "| Marketing  |          48000 |\n",
    "+------------+----------------+"
   ]
  },
  {
   "cell_type": "markdown",
   "metadata": {},
   "source": [
    "\n",
    "-- 23. Find all employees whose email addresses are NULL. \n",
    "\n",
    "select * from employees where email =null;"
   ]
  },
  {
   "cell_type": "markdown",
   "metadata": {},
   "source": [
    "-- 24. Update the salary to 30000 for all employees whose current salary is NULL.\n",
    "\n",
    "Update employees set salary =30000 where salary isnull"
   ]
  },
  {
   "cell_type": "markdown",
   "metadata": {},
   "source": [
    "25. Count how many users are active and inactive from the user_activity table. \n",
    "\n",
    "select Count(*) from user_logs where activity_status='Active'\n",
    "\n",
    "select Count(*) from user_logs where activity_status='Inactive'"
   ]
  },
  {
   "cell_type": "markdown",
   "metadata": {},
   "source": [
    "-----------\n",
    "          3\n",
    "           \n",
    "-----------\n",
    "          2"
   ]
  },
  {
   "cell_type": "markdown",
   "metadata": {},
   "source": [
    "26. Identify the customer who 1has made the most purchases."
   ]
  },
  {
   "cell_type": "markdown",
   "metadata": {},
   "source": [
    "select customer_id, count(*) as total_purchases from orders \n",
    "\n",
    "  group by customer_id order by total_purchases desc limit 1;"
   ]
  },
  {
   "cell_type": "markdown",
   "metadata": {},
   "source": [
    "+-------------+-----------------+\n",
    "| customer_id | total_purchases |\n",
    "+-------------+-----------------+\n",
    "|         401 |               2 |\n",
    "+-------------+-----------------+"
   ]
  },
  {
   "cell_type": "markdown",
   "metadata": {},
   "source": [
    "27. Find the product that has been purchased most frequently. \n"
   ]
  },
  {
   "cell_type": "markdown",
   "metadata": {},
   "source": [
    "select product_id, count(*) as total_products from orders \n",
    "\n",
    "  group by product_id order by total_products desc limit 1;"
   ]
  },
  {
   "cell_type": "markdown",
   "metadata": {},
   "source": [
    "+------------+----------------+\n",
    "| product_id | total_products |\n",
    "+------------+----------------+\n",
    "|        203 |              2 |\n",
    "+------------+----------------+"
   ]
  },
  {
   "cell_type": "markdown",
   "metadata": {},
   "source": [
    "28. Assign a rank to each employee based on their salary in descending order."
   ]
  },
  {
   "cell_type": "markdown",
   "metadata": {},
   "source": [
    "select employee_id,name,department,salary,rank() over (order by salary desc) as rank \n",
    "  from employees;"
   ]
  },
  {
   "cell_type": "markdown",
   "metadata": {},
   "source": [
    "EMPLOYEE_ID NAME\tDEPARTMENT\t    SALARY\t     RANK\n",
    "----------- -------------------- ---------- ---------- \n",
    "\t104     Diana\t\t IT\t\t        70000\t\t1\n",
    "\t106     Fiona\t\t IT\t\t        65000\t\t2\n",
    "\t103     Charlie\t\t Finance\t    55000\t\t3\n",
    "\t101     Alice\t\t IT\t\t        50000\t\t4\n",
    "\t107     George\t\t Marketing\t    48000\t\t5\n",
    "\t108     Hannah\t\t HR\t\t        47000\t\t6\n",
    "\t105     Evan\t\t Sales\t\t    45000\t\t7\n",
    "\t102     Bob \t\t HR\t\t        40000\t\t8\n"
   ]
  },
  {
   "cell_type": "markdown",
   "metadata": {},
   "source": [
    "29. Retrieve duplicate records from the orders table based on the customer_id and \n",
    "order_date."
   ]
  },
  {
   "cell_type": "markdown",
   "metadata": {},
   "source": [
    "select customer_id,order_id, count(*) as duplicate_count from orders\n",
    "  group by customer_id,order_id having count(*)>1;"
   ]
  }
 ],
 "metadata": {
  "language_info": {
   "name": "python"
  }
 },
 "nbformat": 4,
 "nbformat_minor": 2
}
